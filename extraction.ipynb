{
 "cells": [
  {
   "cell_type": "code",
   "execution_count": 6,
   "metadata": {},
   "outputs": [],
   "source": [
    "#taken 5 pages from the handbook and made into a sep. pdf conversion of that into html/xml/csv \n",
    "\n",
    "import pdftables_api\n",
    "\n",
    "c = pdftables_api.Client('2hc64ee9gou1')\n",
    "c.html('C:/Users/prash/Desktop/handbook.pdf', 'handbook')\n",
    "# c.xml('C:/Users/prash/Desktop/handbook.pdf', 'handbook')\n",
    "# c.csv('C:/Users/prash/Desktop/handbook.pdf', 'handbook')"
   ]
  },
  {
   "cell_type": "code",
   "execution_count": 1,
   "metadata": {},
   "outputs": [
    {
     "name": "stdout",
     "output_type": "stream",
     "text": [
      "At the end of the course, the student will be able to:\n",
      "\n",
      "•\tIdentify the design technique used in an algorithm.\n",
      "\n",
      "•\tDesign an algorithm for a problem in a known design technique.\n",
      "\n",
      "•\tProve the correctness of an algorithm.\n",
      "\n",
      "•\tAnalyze the resource utilization of an algorithm in terms of time and space.\n",
      "\n",
      "•\tUnderstand the limits of algorithms and the ways to cope with the limitations.\n",
      "\n"
     ]
    }
   ],
   "source": [
    "#searching the text file for outcomes of a particular subject\n",
    "with open(\"D:/Downloads/handbook.txt\", \"r\") as f:\n",
    "    searchlines = f.readlines()\n",
    "    \n",
    "m=v=z=q=0\n",
    "code='UE17CS251'\n",
    "out='Course Outcomes'\n",
    "content='Course Content'\n",
    "reference='Reference Books'\n",
    "for l,line in enumerate(searchlines):\n",
    "    if code in line:\n",
    "        m=l #12360\n",
    "        \n",
    "r=k=m\n",
    "\n",
    "for line in searchlines[r:-1]:\n",
    "    r+=1\n",
    "    if (v==0) and content in line:                \n",
    "        v=r #12375\n",
    "for line in searchlines[m:v]:\n",
    "    k+=1\n",
    "    if (z==0) and out in line:\n",
    "        z=k #12368\n",
    "        \n",
    "for line in searchlines[r:]:\n",
    "    r+=1\n",
    "    if reference in line:\n",
    "        q=r \n",
    "        \n",
    "        \n",
    "for line in searchlines[z:k-1]:\n",
    "    print(line)"
   ]
  },
  {
   "cell_type": "code",
   "execution_count": 5,
   "metadata": {},
   "outputs": [
    {
     "name": "stdout",
     "output_type": "stream",
     "text": [
      "1.\t“Computer Organization and Design”, Patterson, Hennessey, 5th\n",
      "\n",
      "Edition, Morgan Kaufmann.\n",
      "\n",
      "2.\t“ARM System-on-Chip Architecture”, Steve Furber, 2nd Edition, 2015, Pearson India.\n",
      "\n",
      "3.\t“Computer Architecture: A Quantitative Approach”, Hennessey, Patterson, 5th Edition.\n",
      "\n"
     ]
    }
   ],
   "source": [
    "# reference books\n",
    "\n",
    "with open(\"D:/Downloads/handbook.txt\", \"r\") as f:\n",
    "    searchlines = f.readlines()\n",
    "    \n",
    "n=m=k=0\n",
    "code='UE17CS253'\n",
    "reference='Reference Book'\n",
    "for l,line in enumerate(searchlines):\n",
    "    if code in line:\n",
    "        m=l\n",
    "n=b=m\n",
    "# print(n,b)\n",
    "        \n",
    "for line in searchlines[m:-1]:\n",
    "    b+=1\n",
    "    if (k==0) and reference in line:\n",
    "        k=b\n",
    "# print(k)\n",
    "\n",
    "for line in searchlines[k:k+4]:\n",
    "    print(line)\n"
   ]
  },
  {
   "cell_type": "code",
   "execution_count": 4,
   "metadata": {},
   "outputs": [
    {
     "name": "stdout",
     "output_type": "stream",
     "text": [
      "2\tUE17CS251*\tDesign and Analysis of Algorithms\t4\t0\t0\t0\t4\tCC\n",
      " 7077\n",
      "3\tUE17CS252\tData Base Management Systems\t4\t0\t0\t0\t4\tCC\n",
      " 7078\n",
      "4\tUE17CS253\tMicroprocessor and Computer Architecture\t4\t0\t0\t0\t4\tFC\n",
      " 7079\n",
      "5\tUE17CS254\tTheory of Computation\t4\t0\t0\t0\t4\tCC\n",
      " 7080\n",
      "6\tUE17CS255\tDesign and Analysis of Algorithms Laboratory\t0\t0\t2\t0\t1\tCC\n",
      " 7081\n",
      "7\tUE17CS256\tMicroprocessor and Computer Architecture Laboratory\t0\t0\t2\t0\t1\tFC\n",
      " 7082\n",
      "8\tUE17CS257 X\tSpecial Topic II\t0 /2\t0\t4 /0\t0/8\t2\tPW\n",
      " 7083\n",
      "UE17CS251:\n",
      " 12360\n",
      "UE17CS252:\n",
      " 12388\n",
      "UE17CS253:\n",
      " 12422\n",
      "UE17CS254:\n",
      " 12453\n",
      "UE17CS255:\n",
      " 12487\n",
      "UE17CS256:\n",
      " 12524\n"
     ]
    }
   ],
   "source": [
    "with open(\"D:/downloads/handbook.txt\", \"r\") as f:\n",
    "    searchlines = f.readlines()\n",
    "m_list = []\n",
    "for i, line in enumerate(searchlines):\n",
    "    if \"UE17CS25\" in line: \n",
    "        print(line,i)"
   ]
  },
  {
   "cell_type": "code",
   "execution_count": null,
   "metadata": {},
   "outputs": [],
   "source": []
  }
 ],
 "metadata": {
  "kernelspec": {
   "display_name": "Python 3",
   "language": "python",
   "name": "python3"
  },
  "language_info": {
   "codemirror_mode": {
    "name": "ipython",
    "version": 3
   },
   "file_extension": ".py",
   "mimetype": "text/x-python",
   "name": "python",
   "nbconvert_exporter": "python",
   "pygments_lexer": "ipython3",
   "version": "3.6.5"
  }
 },
 "nbformat": 4,
 "nbformat_minor": 2
}
